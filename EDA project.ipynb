{
 "cells": [
  {
   "cell_type": "markdown",
   "id": "aab0c429",
   "metadata": {},
   "source": [
    "# MTA Exploratory Data Analysis\n",
    "\n",
    "In this project we will try to find the most and least crowded stations to make better descision to make the riders experiance easy and help the shops owners to increase their sales"
   ]
  },
  {
   "cell_type": "code",
   "execution_count": 1,
   "id": "3558d85a",
   "metadata": {},
   "outputs": [],
   "source": [
    "import pandas as pd\n",
    "import numpy as np\n",
    "import matplotlib.pyplot as plt\n",
    "import seaborn as sns\n",
    "from matplotlib.ticker import MaxNLocator\n",
    "from matplotlib.ticker import FormatStrFormatter\n",
    "\n",
    "%matplotlib inline"
   ]
  },
  {
   "cell_type": "markdown",
   "id": "97d63b74",
   "metadata": {},
   "source": [
    "### Get the data and visualise first 10 rows"
   ]
  },
  {
   "cell_type": "code",
   "execution_count": 2,
   "id": "ca8729f3",
   "metadata": {},
   "outputs": [],
   "source": [
    "# Source: http://web.mta.info/developers/turnstile.html\n",
    "def get_data_parse_dt(week_nums):\n",
    "    url = \"http://web.mta.info/developers/data/nyct/turnstile/turnstile_{}.txt\"\n",
    "    dfs = []\n",
    "    for week_num in week_nums:\n",
    "        file_url = url.format(week_num)\n",
    "        dfs.append(pd.read_csv(file_url, parse_dates=[['DATE','TIME']], keep_date_col=True))\n",
    "    return pd.concat(dfs)\n",
    "        \n",
    "week_nums = [210612, 210619, 210626, 210703, 210710, 210717, 210724, 210731, 210807, 210814, 210821, 210828] #\n",
    "df = get_data_parse_dt(week_nums)"
   ]
  },
  {
   "cell_type": "code",
   "execution_count": 3,
   "id": "b5bf981d",
   "metadata": {},
   "outputs": [
    {
     "data": {
      "text/html": [
       "<div>\n",
       "<style scoped>\n",
       "    .dataframe tbody tr th:only-of-type {\n",
       "        vertical-align: middle;\n",
       "    }\n",
       "\n",
       "    .dataframe tbody tr th {\n",
       "        vertical-align: top;\n",
       "    }\n",
       "\n",
       "    .dataframe thead th {\n",
       "        text-align: right;\n",
       "    }\n",
       "</style>\n",
       "<table border=\"1\" class=\"dataframe\">\n",
       "  <thead>\n",
       "    <tr style=\"text-align: right;\">\n",
       "      <th></th>\n",
       "      <th>DATE_TIME</th>\n",
       "      <th>C/A</th>\n",
       "      <th>UNIT</th>\n",
       "      <th>SCP</th>\n",
       "      <th>STATION</th>\n",
       "      <th>LINENAME</th>\n",
       "      <th>DIVISION</th>\n",
       "      <th>DATE</th>\n",
       "      <th>TIME</th>\n",
       "      <th>DESC</th>\n",
       "      <th>ENTRIES</th>\n",
       "      <th>EXITS</th>\n",
       "    </tr>\n",
       "  </thead>\n",
       "  <tbody>\n",
       "    <tr>\n",
       "      <th>0</th>\n",
       "      <td>2021-06-05 00:00:00</td>\n",
       "      <td>A002</td>\n",
       "      <td>R051</td>\n",
       "      <td>02-00-00</td>\n",
       "      <td>59 ST</td>\n",
       "      <td>NQR456W</td>\n",
       "      <td>BMT</td>\n",
       "      <td>06/05/2021</td>\n",
       "      <td>00:00:00</td>\n",
       "      <td>REGULAR</td>\n",
       "      <td>7581941</td>\n",
       "      <td>2591624</td>\n",
       "    </tr>\n",
       "    <tr>\n",
       "      <th>1</th>\n",
       "      <td>2021-06-05 04:00:00</td>\n",
       "      <td>A002</td>\n",
       "      <td>R051</td>\n",
       "      <td>02-00-00</td>\n",
       "      <td>59 ST</td>\n",
       "      <td>NQR456W</td>\n",
       "      <td>BMT</td>\n",
       "      <td>06/05/2021</td>\n",
       "      <td>04:00:00</td>\n",
       "      <td>REGULAR</td>\n",
       "      <td>7581950</td>\n",
       "      <td>2591625</td>\n",
       "    </tr>\n",
       "    <tr>\n",
       "      <th>2</th>\n",
       "      <td>2021-06-05 08:00:00</td>\n",
       "      <td>A002</td>\n",
       "      <td>R051</td>\n",
       "      <td>02-00-00</td>\n",
       "      <td>59 ST</td>\n",
       "      <td>NQR456W</td>\n",
       "      <td>BMT</td>\n",
       "      <td>06/05/2021</td>\n",
       "      <td>08:00:00</td>\n",
       "      <td>REGULAR</td>\n",
       "      <td>7581954</td>\n",
       "      <td>2591635</td>\n",
       "    </tr>\n",
       "    <tr>\n",
       "      <th>3</th>\n",
       "      <td>2021-06-05 12:00:00</td>\n",
       "      <td>A002</td>\n",
       "      <td>R051</td>\n",
       "      <td>02-00-00</td>\n",
       "      <td>59 ST</td>\n",
       "      <td>NQR456W</td>\n",
       "      <td>BMT</td>\n",
       "      <td>06/05/2021</td>\n",
       "      <td>12:00:00</td>\n",
       "      <td>REGULAR</td>\n",
       "      <td>7582009</td>\n",
       "      <td>2591655</td>\n",
       "    </tr>\n",
       "    <tr>\n",
       "      <th>4</th>\n",
       "      <td>2021-06-05 16:00:00</td>\n",
       "      <td>A002</td>\n",
       "      <td>R051</td>\n",
       "      <td>02-00-00</td>\n",
       "      <td>59 ST</td>\n",
       "      <td>NQR456W</td>\n",
       "      <td>BMT</td>\n",
       "      <td>06/05/2021</td>\n",
       "      <td>16:00:00</td>\n",
       "      <td>REGULAR</td>\n",
       "      <td>7582124</td>\n",
       "      <td>2591683</td>\n",
       "    </tr>\n",
       "    <tr>\n",
       "      <th>5</th>\n",
       "      <td>2021-06-05 20:00:00</td>\n",
       "      <td>A002</td>\n",
       "      <td>R051</td>\n",
       "      <td>02-00-00</td>\n",
       "      <td>59 ST</td>\n",
       "      <td>NQR456W</td>\n",
       "      <td>BMT</td>\n",
       "      <td>06/05/2021</td>\n",
       "      <td>20:00:00</td>\n",
       "      <td>REGULAR</td>\n",
       "      <td>7582248</td>\n",
       "      <td>2591700</td>\n",
       "    </tr>\n",
       "    <tr>\n",
       "      <th>6</th>\n",
       "      <td>2021-06-06 00:00:00</td>\n",
       "      <td>A002</td>\n",
       "      <td>R051</td>\n",
       "      <td>02-00-00</td>\n",
       "      <td>59 ST</td>\n",
       "      <td>NQR456W</td>\n",
       "      <td>BMT</td>\n",
       "      <td>06/06/2021</td>\n",
       "      <td>00:00:00</td>\n",
       "      <td>REGULAR</td>\n",
       "      <td>7582304</td>\n",
       "      <td>2591711</td>\n",
       "    </tr>\n",
       "    <tr>\n",
       "      <th>7</th>\n",
       "      <td>2021-06-06 04:00:00</td>\n",
       "      <td>A002</td>\n",
       "      <td>R051</td>\n",
       "      <td>02-00-00</td>\n",
       "      <td>59 ST</td>\n",
       "      <td>NQR456W</td>\n",
       "      <td>BMT</td>\n",
       "      <td>06/06/2021</td>\n",
       "      <td>04:00:00</td>\n",
       "      <td>REGULAR</td>\n",
       "      <td>7582310</td>\n",
       "      <td>2591712</td>\n",
       "    </tr>\n",
       "    <tr>\n",
       "      <th>8</th>\n",
       "      <td>2021-06-06 08:00:00</td>\n",
       "      <td>A002</td>\n",
       "      <td>R051</td>\n",
       "      <td>02-00-00</td>\n",
       "      <td>59 ST</td>\n",
       "      <td>NQR456W</td>\n",
       "      <td>BMT</td>\n",
       "      <td>06/06/2021</td>\n",
       "      <td>08:00:00</td>\n",
       "      <td>REGULAR</td>\n",
       "      <td>7582321</td>\n",
       "      <td>2591725</td>\n",
       "    </tr>\n",
       "    <tr>\n",
       "      <th>9</th>\n",
       "      <td>2021-06-06 12:00:00</td>\n",
       "      <td>A002</td>\n",
       "      <td>R051</td>\n",
       "      <td>02-00-00</td>\n",
       "      <td>59 ST</td>\n",
       "      <td>NQR456W</td>\n",
       "      <td>BMT</td>\n",
       "      <td>06/06/2021</td>\n",
       "      <td>12:00:00</td>\n",
       "      <td>REGULAR</td>\n",
       "      <td>7582348</td>\n",
       "      <td>2591751</td>\n",
       "    </tr>\n",
       "  </tbody>\n",
       "</table>\n",
       "</div>"
      ],
      "text/plain": [
       "            DATE_TIME   C/A  UNIT       SCP STATION LINENAME DIVISION  \\\n",
       "0 2021-06-05 00:00:00  A002  R051  02-00-00   59 ST  NQR456W      BMT   \n",
       "1 2021-06-05 04:00:00  A002  R051  02-00-00   59 ST  NQR456W      BMT   \n",
       "2 2021-06-05 08:00:00  A002  R051  02-00-00   59 ST  NQR456W      BMT   \n",
       "3 2021-06-05 12:00:00  A002  R051  02-00-00   59 ST  NQR456W      BMT   \n",
       "4 2021-06-05 16:00:00  A002  R051  02-00-00   59 ST  NQR456W      BMT   \n",
       "5 2021-06-05 20:00:00  A002  R051  02-00-00   59 ST  NQR456W      BMT   \n",
       "6 2021-06-06 00:00:00  A002  R051  02-00-00   59 ST  NQR456W      BMT   \n",
       "7 2021-06-06 04:00:00  A002  R051  02-00-00   59 ST  NQR456W      BMT   \n",
       "8 2021-06-06 08:00:00  A002  R051  02-00-00   59 ST  NQR456W      BMT   \n",
       "9 2021-06-06 12:00:00  A002  R051  02-00-00   59 ST  NQR456W      BMT   \n",
       "\n",
       "         DATE      TIME     DESC  ENTRIES  \\\n",
       "0  06/05/2021  00:00:00  REGULAR  7581941   \n",
       "1  06/05/2021  04:00:00  REGULAR  7581950   \n",
       "2  06/05/2021  08:00:00  REGULAR  7581954   \n",
       "3  06/05/2021  12:00:00  REGULAR  7582009   \n",
       "4  06/05/2021  16:00:00  REGULAR  7582124   \n",
       "5  06/05/2021  20:00:00  REGULAR  7582248   \n",
       "6  06/06/2021  00:00:00  REGULAR  7582304   \n",
       "7  06/06/2021  04:00:00  REGULAR  7582310   \n",
       "8  06/06/2021  08:00:00  REGULAR  7582321   \n",
       "9  06/06/2021  12:00:00  REGULAR  7582348   \n",
       "\n",
       "   EXITS                                                                 \n",
       "0                                            2591624                     \n",
       "1                                            2591625                     \n",
       "2                                            2591635                     \n",
       "3                                            2591655                     \n",
       "4                                            2591683                     \n",
       "5                                            2591700                     \n",
       "6                                            2591711                     \n",
       "7                                            2591712                     \n",
       "8                                            2591725                     \n",
       "9                                            2591751                     "
      ]
     },
     "execution_count": 3,
     "metadata": {},
     "output_type": "execute_result"
    }
   ],
   "source": [
    "df.head(10)"
   ]
  },
  {
   "cell_type": "markdown",
   "id": "fc34ca07",
   "metadata": {},
   "source": [
    "### Remove any spaces in the columns names "
   ]
  },
  {
   "cell_type": "code",
   "execution_count": 4,
   "id": "52fcfe86",
   "metadata": {},
   "outputs": [
    {
     "data": {
      "text/plain": [
       "Index(['DATE_TIME', 'C/A', 'UNIT', 'SCP', 'STATION', 'LINENAME', 'DIVISION',\n",
       "       'DATE', 'TIME', 'DESC', 'ENTRIES', 'EXITS'],\n",
       "      dtype='object')"
      ]
     },
     "execution_count": 4,
     "metadata": {},
     "output_type": "execute_result"
    }
   ],
   "source": [
    "df.columns = [column.strip() for column in df.columns]\n",
    "df.columns"
   ]
  },
  {
   "cell_type": "markdown",
   "id": "be6e408b",
   "metadata": {},
   "source": [
    "### Check if there is duplicated rows"
   ]
  },
  {
   "cell_type": "code",
   "execution_count": 5,
   "id": "a95da87b",
   "metadata": {
    "scrolled": true
   },
   "outputs": [
    {
     "name": "stdout",
     "output_type": "stream",
     "text": [
      "We have 0 duplicated rows\n"
     ]
    },
    {
     "data": {
      "text/html": [
       "<div>\n",
       "<style scoped>\n",
       "    .dataframe tbody tr th:only-of-type {\n",
       "        vertical-align: middle;\n",
       "    }\n",
       "\n",
       "    .dataframe tbody tr th {\n",
       "        vertical-align: top;\n",
       "    }\n",
       "\n",
       "    .dataframe thead th {\n",
       "        text-align: right;\n",
       "    }\n",
       "</style>\n",
       "<table border=\"1\" class=\"dataframe\">\n",
       "  <thead>\n",
       "    <tr style=\"text-align: right;\">\n",
       "      <th></th>\n",
       "      <th>C/A</th>\n",
       "      <th>UNIT</th>\n",
       "      <th>SCP</th>\n",
       "      <th>STATION</th>\n",
       "      <th>DATE_TIME</th>\n",
       "      <th>DESC</th>\n",
       "      <th>ENTRIES</th>\n",
       "    </tr>\n",
       "  </thead>\n",
       "  <tbody>\n",
       "  </tbody>\n",
       "</table>\n",
       "</div>"
      ],
      "text/plain": [
       "Empty DataFrame\n",
       "Columns: [C/A, UNIT, SCP, STATION, DATE_TIME, DESC, ENTRIES]\n",
       "Index: []"
      ]
     },
     "execution_count": 5,
     "metadata": {},
     "output_type": "execute_result"
    }
   ],
   "source": [
    "duplicate = (df\n",
    " .groupby([\"C/A\", \"UNIT\", \"SCP\", \"STATION\", \"DATE_TIME\", \"DESC\"])\n",
    " .ENTRIES.count()\n",
    " .reset_index()\n",
    " .sort_values(\"ENTRIES\", ascending=False))\n",
    "\n",
    "\n",
    "count = duplicate[duplicate[\"ENTRIES\"] > 1].ENTRIES.count()\n",
    "print(f\"We have {count} duplicated rows\")\n",
    "duplicate[duplicate[\"ENTRIES\"] > 1].head()"
   ]
  },
  {
   "cell_type": "markdown",
   "id": "a7cdb6c2",
   "metadata": {},
   "source": [
    "### Take all rows with Regular Desc"
   ]
  },
  {
   "cell_type": "code",
   "execution_count": 6,
   "id": "5d019185",
   "metadata": {},
   "outputs": [
    {
     "data": {
      "text/html": [
       "<div>\n",
       "<style scoped>\n",
       "    .dataframe tbody tr th:only-of-type {\n",
       "        vertical-align: middle;\n",
       "    }\n",
       "\n",
       "    .dataframe tbody tr th {\n",
       "        vertical-align: top;\n",
       "    }\n",
       "\n",
       "    .dataframe thead th {\n",
       "        text-align: right;\n",
       "    }\n",
       "</style>\n",
       "<table border=\"1\" class=\"dataframe\">\n",
       "  <thead>\n",
       "    <tr style=\"text-align: right;\">\n",
       "      <th></th>\n",
       "      <th>DATE_TIME</th>\n",
       "      <th>C/A</th>\n",
       "      <th>UNIT</th>\n",
       "      <th>SCP</th>\n",
       "      <th>STATION</th>\n",
       "      <th>LINENAME</th>\n",
       "      <th>DIVISION</th>\n",
       "      <th>DATE</th>\n",
       "      <th>TIME</th>\n",
       "      <th>DESC</th>\n",
       "      <th>ENTRIES</th>\n",
       "      <th>EXITS</th>\n",
       "    </tr>\n",
       "  </thead>\n",
       "  <tbody>\n",
       "    <tr>\n",
       "      <th>0</th>\n",
       "      <td>2021-06-05 00:00:00</td>\n",
       "      <td>A002</td>\n",
       "      <td>R051</td>\n",
       "      <td>02-00-00</td>\n",
       "      <td>59 ST</td>\n",
       "      <td>NQR456W</td>\n",
       "      <td>BMT</td>\n",
       "      <td>06/05/2021</td>\n",
       "      <td>00:00:00</td>\n",
       "      <td>REGULAR</td>\n",
       "      <td>7581941</td>\n",
       "      <td>2591624</td>\n",
       "    </tr>\n",
       "    <tr>\n",
       "      <th>1</th>\n",
       "      <td>2021-06-05 04:00:00</td>\n",
       "      <td>A002</td>\n",
       "      <td>R051</td>\n",
       "      <td>02-00-00</td>\n",
       "      <td>59 ST</td>\n",
       "      <td>NQR456W</td>\n",
       "      <td>BMT</td>\n",
       "      <td>06/05/2021</td>\n",
       "      <td>04:00:00</td>\n",
       "      <td>REGULAR</td>\n",
       "      <td>7581950</td>\n",
       "      <td>2591625</td>\n",
       "    </tr>\n",
       "    <tr>\n",
       "      <th>2</th>\n",
       "      <td>2021-06-05 08:00:00</td>\n",
       "      <td>A002</td>\n",
       "      <td>R051</td>\n",
       "      <td>02-00-00</td>\n",
       "      <td>59 ST</td>\n",
       "      <td>NQR456W</td>\n",
       "      <td>BMT</td>\n",
       "      <td>06/05/2021</td>\n",
       "      <td>08:00:00</td>\n",
       "      <td>REGULAR</td>\n",
       "      <td>7581954</td>\n",
       "      <td>2591635</td>\n",
       "    </tr>\n",
       "    <tr>\n",
       "      <th>3</th>\n",
       "      <td>2021-06-05 12:00:00</td>\n",
       "      <td>A002</td>\n",
       "      <td>R051</td>\n",
       "      <td>02-00-00</td>\n",
       "      <td>59 ST</td>\n",
       "      <td>NQR456W</td>\n",
       "      <td>BMT</td>\n",
       "      <td>06/05/2021</td>\n",
       "      <td>12:00:00</td>\n",
       "      <td>REGULAR</td>\n",
       "      <td>7582009</td>\n",
       "      <td>2591655</td>\n",
       "    </tr>\n",
       "    <tr>\n",
       "      <th>4</th>\n",
       "      <td>2021-06-05 16:00:00</td>\n",
       "      <td>A002</td>\n",
       "      <td>R051</td>\n",
       "      <td>02-00-00</td>\n",
       "      <td>59 ST</td>\n",
       "      <td>NQR456W</td>\n",
       "      <td>BMT</td>\n",
       "      <td>06/05/2021</td>\n",
       "      <td>16:00:00</td>\n",
       "      <td>REGULAR</td>\n",
       "      <td>7582124</td>\n",
       "      <td>2591683</td>\n",
       "    </tr>\n",
       "  </tbody>\n",
       "</table>\n",
       "</div>"
      ],
      "text/plain": [
       "            DATE_TIME   C/A  UNIT       SCP STATION LINENAME DIVISION  \\\n",
       "0 2021-06-05 00:00:00  A002  R051  02-00-00   59 ST  NQR456W      BMT   \n",
       "1 2021-06-05 04:00:00  A002  R051  02-00-00   59 ST  NQR456W      BMT   \n",
       "2 2021-06-05 08:00:00  A002  R051  02-00-00   59 ST  NQR456W      BMT   \n",
       "3 2021-06-05 12:00:00  A002  R051  02-00-00   59 ST  NQR456W      BMT   \n",
       "4 2021-06-05 16:00:00  A002  R051  02-00-00   59 ST  NQR456W      BMT   \n",
       "\n",
       "         DATE      TIME     DESC  ENTRIES    EXITS  \n",
       "0  06/05/2021  00:00:00  REGULAR  7581941  2591624  \n",
       "1  06/05/2021  04:00:00  REGULAR  7581950  2591625  \n",
       "2  06/05/2021  08:00:00  REGULAR  7581954  2591635  \n",
       "3  06/05/2021  12:00:00  REGULAR  7582009  2591655  \n",
       "4  06/05/2021  16:00:00  REGULAR  7582124  2591683  "
      ]
     },
     "execution_count": 6,
     "metadata": {},
     "output_type": "execute_result"
    }
   ],
   "source": [
    "mask = df[\"DESC\"] == \"REGULAR\"\n",
    "df = df[mask]\n",
    "\n",
    "df.head()"
   ]
  },
  {
   "cell_type": "markdown",
   "id": "5c4cdd1e",
   "metadata": {},
   "source": [
    "### Make sure that there is no more duplicated rows"
   ]
  },
  {
   "cell_type": "code",
   "execution_count": 7,
   "id": "d8f9f155",
   "metadata": {
    "scrolled": true
   },
   "outputs": [
    {
     "data": {
      "text/html": [
       "<div>\n",
       "<style scoped>\n",
       "    .dataframe tbody tr th:only-of-type {\n",
       "        vertical-align: middle;\n",
       "    }\n",
       "\n",
       "    .dataframe tbody tr th {\n",
       "        vertical-align: top;\n",
       "    }\n",
       "\n",
       "    .dataframe thead th {\n",
       "        text-align: right;\n",
       "    }\n",
       "</style>\n",
       "<table border=\"1\" class=\"dataframe\">\n",
       "  <thead>\n",
       "    <tr style=\"text-align: right;\">\n",
       "      <th></th>\n",
       "      <th>C/A</th>\n",
       "      <th>UNIT</th>\n",
       "      <th>SCP</th>\n",
       "      <th>STATION</th>\n",
       "      <th>DATE_TIME</th>\n",
       "      <th>ENTRIES</th>\n",
       "    </tr>\n",
       "  </thead>\n",
       "  <tbody>\n",
       "    <tr>\n",
       "      <th>0</th>\n",
       "      <td>A002</td>\n",
       "      <td>R051</td>\n",
       "      <td>02-00-00</td>\n",
       "      <td>59 ST</td>\n",
       "      <td>2021-06-05 00:00:00</td>\n",
       "      <td>1</td>\n",
       "    </tr>\n",
       "    <tr>\n",
       "      <th>1667716</th>\n",
       "      <td>R138</td>\n",
       "      <td>R293</td>\n",
       "      <td>00-03-01</td>\n",
       "      <td>34 ST-PENN STA</td>\n",
       "      <td>2021-06-13 14:00:00</td>\n",
       "      <td>1</td>\n",
       "    </tr>\n",
       "    <tr>\n",
       "      <th>1667709</th>\n",
       "      <td>R138</td>\n",
       "      <td>R293</td>\n",
       "      <td>00-03-01</td>\n",
       "      <td>34 ST-PENN STA</td>\n",
       "      <td>2021-06-12 10:00:00</td>\n",
       "      <td>1</td>\n",
       "    </tr>\n",
       "    <tr>\n",
       "      <th>1667710</th>\n",
       "      <td>R138</td>\n",
       "      <td>R293</td>\n",
       "      <td>00-03-01</td>\n",
       "      <td>34 ST-PENN STA</td>\n",
       "      <td>2021-06-12 14:00:00</td>\n",
       "      <td>1</td>\n",
       "    </tr>\n",
       "    <tr>\n",
       "      <th>1667711</th>\n",
       "      <td>R138</td>\n",
       "      <td>R293</td>\n",
       "      <td>00-03-01</td>\n",
       "      <td>34 ST-PENN STA</td>\n",
       "      <td>2021-06-12 18:00:00</td>\n",
       "      <td>1</td>\n",
       "    </tr>\n",
       "  </tbody>\n",
       "</table>\n",
       "</div>"
      ],
      "text/plain": [
       "          C/A  UNIT       SCP         STATION           DATE_TIME  ENTRIES\n",
       "0        A002  R051  02-00-00           59 ST 2021-06-05 00:00:00        1\n",
       "1667716  R138  R293  00-03-01  34 ST-PENN STA 2021-06-13 14:00:00        1\n",
       "1667709  R138  R293  00-03-01  34 ST-PENN STA 2021-06-12 10:00:00        1\n",
       "1667710  R138  R293  00-03-01  34 ST-PENN STA 2021-06-12 14:00:00        1\n",
       "1667711  R138  R293  00-03-01  34 ST-PENN STA 2021-06-12 18:00:00        1"
      ]
     },
     "execution_count": 7,
     "metadata": {},
     "output_type": "execute_result"
    }
   ],
   "source": [
    "(df\n",
    " .groupby([\"C/A\", \"UNIT\", \"SCP\", \"STATION\", \"DATE_TIME\"])\n",
    " .ENTRIES.count()\n",
    " .reset_index()\n",
    " .sort_values(\"ENTRIES\", ascending=False)).head(5)"
   ]
  },
  {
   "cell_type": "markdown",
   "id": "8c7b3aee",
   "metadata": {},
   "source": [
    "### Find the hourly ENTRIES & EXITS for each station\n",
    "> 1- Calculate total entries and exits for each station and time <br>\n",
    "> 2- Create new columns which are the PREV_ENTRIES & PREV_EXITS <br>\n",
    "> 3- Find hourly entries and exits by subtracting Current - Prev <br>"
   ]
  },
  {
   "cell_type": "markdown",
   "id": "0aff3813",
   "metadata": {},
   "source": [
    "### Calculate total entries and exits for each station and time"
   ]
  },
  {
   "cell_type": "code",
   "execution_count": 8,
   "id": "db78d4f6",
   "metadata": {
    "scrolled": true
   },
   "outputs": [
    {
     "data": {
      "text/html": [
       "<div>\n",
       "<style scoped>\n",
       "    .dataframe tbody tr th:only-of-type {\n",
       "        vertical-align: middle;\n",
       "    }\n",
       "\n",
       "    .dataframe tbody tr th {\n",
       "        vertical-align: top;\n",
       "    }\n",
       "\n",
       "    .dataframe thead th {\n",
       "        text-align: right;\n",
       "    }\n",
       "</style>\n",
       "<table border=\"1\" class=\"dataframe\">\n",
       "  <thead>\n",
       "    <tr style=\"text-align: right;\">\n",
       "      <th></th>\n",
       "      <th>STATION</th>\n",
       "      <th>DATE_TIME</th>\n",
       "      <th>ENTRIES</th>\n",
       "      <th>EXITS</th>\n",
       "    </tr>\n",
       "  </thead>\n",
       "  <tbody>\n",
       "    <tr>\n",
       "      <th>0</th>\n",
       "      <td>1 AV</td>\n",
       "      <td>2021-06-05 00:00:00</td>\n",
       "      <td>463469358</td>\n",
       "      <td>467561277</td>\n",
       "    </tr>\n",
       "    <tr>\n",
       "      <th>1</th>\n",
       "      <td>1 AV</td>\n",
       "      <td>2021-06-05 04:00:00</td>\n",
       "      <td>459281262</td>\n",
       "      <td>448879330</td>\n",
       "    </tr>\n",
       "    <tr>\n",
       "      <th>2</th>\n",
       "      <td>1 AV</td>\n",
       "      <td>2021-06-05 08:00:00</td>\n",
       "      <td>463470068</td>\n",
       "      <td>467562591</td>\n",
       "    </tr>\n",
       "    <tr>\n",
       "      <th>3</th>\n",
       "      <td>1 AV</td>\n",
       "      <td>2021-06-05 12:00:00</td>\n",
       "      <td>463471095</td>\n",
       "      <td>467564448</td>\n",
       "    </tr>\n",
       "    <tr>\n",
       "      <th>4</th>\n",
       "      <td>1 AV</td>\n",
       "      <td>2021-06-05 16:00:00</td>\n",
       "      <td>463472982</td>\n",
       "      <td>467567736</td>\n",
       "    </tr>\n",
       "    <tr>\n",
       "      <th>5</th>\n",
       "      <td>1 AV</td>\n",
       "      <td>2021-06-05 20:00:00</td>\n",
       "      <td>463474970</td>\n",
       "      <td>467571266</td>\n",
       "    </tr>\n",
       "    <tr>\n",
       "      <th>6</th>\n",
       "      <td>1 AV</td>\n",
       "      <td>2021-06-06 00:00:00</td>\n",
       "      <td>463476406</td>\n",
       "      <td>467573798</td>\n",
       "    </tr>\n",
       "    <tr>\n",
       "      <th>7</th>\n",
       "      <td>1 AV</td>\n",
       "      <td>2021-06-06 04:00:00</td>\n",
       "      <td>463476853</td>\n",
       "      <td>467574643</td>\n",
       "    </tr>\n",
       "    <tr>\n",
       "      <th>8</th>\n",
       "      <td>1 AV</td>\n",
       "      <td>2021-06-06 08:00:00</td>\n",
       "      <td>463477020</td>\n",
       "      <td>467575101</td>\n",
       "    </tr>\n",
       "    <tr>\n",
       "      <th>9</th>\n",
       "      <td>1 AV</td>\n",
       "      <td>2021-06-06 12:00:00</td>\n",
       "      <td>463477883</td>\n",
       "      <td>467576595</td>\n",
       "    </tr>\n",
       "  </tbody>\n",
       "</table>\n",
       "</div>"
      ],
      "text/plain": [
       "  STATION           DATE_TIME    ENTRIES      EXITS\n",
       "0    1 AV 2021-06-05 00:00:00  463469358  467561277\n",
       "1    1 AV 2021-06-05 04:00:00  459281262  448879330\n",
       "2    1 AV 2021-06-05 08:00:00  463470068  467562591\n",
       "3    1 AV 2021-06-05 12:00:00  463471095  467564448\n",
       "4    1 AV 2021-06-05 16:00:00  463472982  467567736\n",
       "5    1 AV 2021-06-05 20:00:00  463474970  467571266\n",
       "6    1 AV 2021-06-06 00:00:00  463476406  467573798\n",
       "7    1 AV 2021-06-06 04:00:00  463476853  467574643\n",
       "8    1 AV 2021-06-06 08:00:00  463477020  467575101\n",
       "9    1 AV 2021-06-06 12:00:00  463477883  467576595"
      ]
     },
     "execution_count": 8,
     "metadata": {},
     "output_type": "execute_result"
    }
   ],
   "source": [
    "df_station_hourly = (df.groupby([\"STATION\", \"DATE_TIME\"],as_index=False).ENTRIES.sum())\n",
    "df_station_hourly[\"EXITS\"] = df.groupby([\"STATION\", \"DATE_TIME\"],as_index=False).EXITS.sum()[\"EXITS\"]\n",
    "df_station_hourly.head(10)"
   ]
  },
  {
   "cell_type": "markdown",
   "id": "0784512d",
   "metadata": {},
   "source": [
    "### Create new columns which are the PREV_ENTRIES & PREV_EXITS"
   ]
  },
  {
   "cell_type": "code",
   "execution_count": 9,
   "id": "d82071a0",
   "metadata": {},
   "outputs": [],
   "source": [
    "df_station_hourly['PREV_ENTRIES'] = df_station_hourly['ENTRIES'].shift(1)\n",
    "df_station_hourly['PREV_EXITS'] = df_station_hourly['EXITS'].shift(1)"
   ]
  },
  {
   "cell_type": "code",
   "execution_count": 10,
   "id": "e7a8e31b",
   "metadata": {},
   "outputs": [
    {
     "data": {
      "text/html": [
       "<div>\n",
       "<style scoped>\n",
       "    .dataframe tbody tr th:only-of-type {\n",
       "        vertical-align: middle;\n",
       "    }\n",
       "\n",
       "    .dataframe tbody tr th {\n",
       "        vertical-align: top;\n",
       "    }\n",
       "\n",
       "    .dataframe thead th {\n",
       "        text-align: right;\n",
       "    }\n",
       "</style>\n",
       "<table border=\"1\" class=\"dataframe\">\n",
       "  <thead>\n",
       "    <tr style=\"text-align: right;\">\n",
       "      <th></th>\n",
       "      <th>STATION</th>\n",
       "      <th>DATE_TIME</th>\n",
       "      <th>ENTRIES</th>\n",
       "      <th>EXITS</th>\n",
       "      <th>PREV_ENTRIES</th>\n",
       "      <th>PREV_EXITS</th>\n",
       "    </tr>\n",
       "  </thead>\n",
       "  <tbody>\n",
       "    <tr>\n",
       "      <th>0</th>\n",
       "      <td>1 AV</td>\n",
       "      <td>2021-06-05 00:00:00</td>\n",
       "      <td>463469358</td>\n",
       "      <td>467561277</td>\n",
       "      <td>NaN</td>\n",
       "      <td>NaN</td>\n",
       "    </tr>\n",
       "    <tr>\n",
       "      <th>1</th>\n",
       "      <td>1 AV</td>\n",
       "      <td>2021-06-05 04:00:00</td>\n",
       "      <td>459281262</td>\n",
       "      <td>448879330</td>\n",
       "      <td>463469358.0</td>\n",
       "      <td>467561277.0</td>\n",
       "    </tr>\n",
       "    <tr>\n",
       "      <th>2</th>\n",
       "      <td>1 AV</td>\n",
       "      <td>2021-06-05 08:00:00</td>\n",
       "      <td>463470068</td>\n",
       "      <td>467562591</td>\n",
       "      <td>459281262.0</td>\n",
       "      <td>448879330.0</td>\n",
       "    </tr>\n",
       "    <tr>\n",
       "      <th>3</th>\n",
       "      <td>1 AV</td>\n",
       "      <td>2021-06-05 12:00:00</td>\n",
       "      <td>463471095</td>\n",
       "      <td>467564448</td>\n",
       "      <td>463470068.0</td>\n",
       "      <td>467562591.0</td>\n",
       "    </tr>\n",
       "    <tr>\n",
       "      <th>4</th>\n",
       "      <td>1 AV</td>\n",
       "      <td>2021-06-05 16:00:00</td>\n",
       "      <td>463472982</td>\n",
       "      <td>467567736</td>\n",
       "      <td>463471095.0</td>\n",
       "      <td>467564448.0</td>\n",
       "    </tr>\n",
       "  </tbody>\n",
       "</table>\n",
       "</div>"
      ],
      "text/plain": [
       "  STATION           DATE_TIME    ENTRIES      EXITS  PREV_ENTRIES   PREV_EXITS\n",
       "0    1 AV 2021-06-05 00:00:00  463469358  467561277           NaN          NaN\n",
       "1    1 AV 2021-06-05 04:00:00  459281262  448879330   463469358.0  467561277.0\n",
       "2    1 AV 2021-06-05 08:00:00  463470068  467562591   459281262.0  448879330.0\n",
       "3    1 AV 2021-06-05 12:00:00  463471095  467564448   463470068.0  467562591.0\n",
       "4    1 AV 2021-06-05 16:00:00  463472982  467567736   463471095.0  467564448.0"
      ]
     },
     "execution_count": 10,
     "metadata": {},
     "output_type": "execute_result"
    }
   ],
   "source": [
    "df_station_hourly.head()"
   ]
  },
  {
   "cell_type": "markdown",
   "id": "01ae2af8",
   "metadata": {},
   "source": [
    "1- Find hourly entries by subtracting ENTRIES - PREV_ENTRIES <br>\n",
    "2- Find hourly exits by subtracting EXITS - PREV_EXITS <br>\n",
    "3- Find hourly entries and exits by subtracting ENTRIES - PREV_ENTRIES <br>"
   ]
  },
  {
   "cell_type": "code",
   "execution_count": 11,
   "id": "effe3e28",
   "metadata": {},
   "outputs": [],
   "source": [
    "def get_hourly_counts(row, max_counter, name):\n",
    "    counter = row[name] - row[\"PREV_\"+name]\n",
    "    if counter < 0:\n",
    "        # Maybe counter is reversed?\n",
    "        counter = -counter\n",
    "    if counter > max_counter:\n",
    "        # Maybe counter was reset to 0? \n",
    "        counter = min(row[name], row[\"PREV_\"+name])\n",
    "    if counter > max_counter:\n",
    "        # Check it again to make sure we're not still giving a counter that's too big\n",
    "        return 0\n",
    "    return counter\n",
    "\n",
    "df_station_hourly[\"HOURLY_ENTRIES\"] = df_station_hourly.apply(get_hourly_counts, axis=1, max_counter=5000000, name=\"ENTRIES\")\n",
    "df_station_hourly[\"HOURLY_EXITS\"] = df_station_hourly.apply(get_hourly_counts, axis=1, max_counter=5000000, name=\"EXITS\")"
   ]
  },
  {
   "cell_type": "code",
   "execution_count": 12,
   "id": "65501b47",
   "metadata": {},
   "outputs": [
    {
     "data": {
      "text/html": [
       "<div>\n",
       "<style scoped>\n",
       "    .dataframe tbody tr th:only-of-type {\n",
       "        vertical-align: middle;\n",
       "    }\n",
       "\n",
       "    .dataframe tbody tr th {\n",
       "        vertical-align: top;\n",
       "    }\n",
       "\n",
       "    .dataframe thead th {\n",
       "        text-align: right;\n",
       "    }\n",
       "</style>\n",
       "<table border=\"1\" class=\"dataframe\">\n",
       "  <thead>\n",
       "    <tr style=\"text-align: right;\">\n",
       "      <th></th>\n",
       "      <th>STATION</th>\n",
       "      <th>DATE_TIME</th>\n",
       "      <th>ENTRIES</th>\n",
       "      <th>EXITS</th>\n",
       "      <th>PREV_ENTRIES</th>\n",
       "      <th>PREV_EXITS</th>\n",
       "      <th>HOURLY_ENTRIES</th>\n",
       "      <th>HOURLY_EXITS</th>\n",
       "    </tr>\n",
       "  </thead>\n",
       "  <tbody>\n",
       "    <tr>\n",
       "      <th>0</th>\n",
       "      <td>1 AV</td>\n",
       "      <td>2021-06-05 00:00:00</td>\n",
       "      <td>463469358</td>\n",
       "      <td>467561277</td>\n",
       "      <td>NaN</td>\n",
       "      <td>NaN</td>\n",
       "      <td>NaN</td>\n",
       "      <td>NaN</td>\n",
       "    </tr>\n",
       "    <tr>\n",
       "      <th>1</th>\n",
       "      <td>1 AV</td>\n",
       "      <td>2021-06-05 04:00:00</td>\n",
       "      <td>459281262</td>\n",
       "      <td>448879330</td>\n",
       "      <td>463469358.0</td>\n",
       "      <td>467561277.0</td>\n",
       "      <td>4188096.0</td>\n",
       "      <td>0.0</td>\n",
       "    </tr>\n",
       "    <tr>\n",
       "      <th>2</th>\n",
       "      <td>1 AV</td>\n",
       "      <td>2021-06-05 08:00:00</td>\n",
       "      <td>463470068</td>\n",
       "      <td>467562591</td>\n",
       "      <td>459281262.0</td>\n",
       "      <td>448879330.0</td>\n",
       "      <td>4188806.0</td>\n",
       "      <td>0.0</td>\n",
       "    </tr>\n",
       "    <tr>\n",
       "      <th>3</th>\n",
       "      <td>1 AV</td>\n",
       "      <td>2021-06-05 12:00:00</td>\n",
       "      <td>463471095</td>\n",
       "      <td>467564448</td>\n",
       "      <td>463470068.0</td>\n",
       "      <td>467562591.0</td>\n",
       "      <td>1027.0</td>\n",
       "      <td>1857.0</td>\n",
       "    </tr>\n",
       "    <tr>\n",
       "      <th>4</th>\n",
       "      <td>1 AV</td>\n",
       "      <td>2021-06-05 16:00:00</td>\n",
       "      <td>463472982</td>\n",
       "      <td>467567736</td>\n",
       "      <td>463471095.0</td>\n",
       "      <td>467564448.0</td>\n",
       "      <td>1887.0</td>\n",
       "      <td>3288.0</td>\n",
       "    </tr>\n",
       "  </tbody>\n",
       "</table>\n",
       "</div>"
      ],
      "text/plain": [
       "  STATION           DATE_TIME    ENTRIES      EXITS  PREV_ENTRIES  \\\n",
       "0    1 AV 2021-06-05 00:00:00  463469358  467561277           NaN   \n",
       "1    1 AV 2021-06-05 04:00:00  459281262  448879330   463469358.0   \n",
       "2    1 AV 2021-06-05 08:00:00  463470068  467562591   459281262.0   \n",
       "3    1 AV 2021-06-05 12:00:00  463471095  467564448   463470068.0   \n",
       "4    1 AV 2021-06-05 16:00:00  463472982  467567736   463471095.0   \n",
       "\n",
       "    PREV_EXITS  HOURLY_ENTRIES  HOURLY_EXITS  \n",
       "0          NaN             NaN           NaN  \n",
       "1  467561277.0       4188096.0           0.0  \n",
       "2  448879330.0       4188806.0           0.0  \n",
       "3  467562591.0          1027.0        1857.0  \n",
       "4  467564448.0          1887.0        3288.0  "
      ]
     },
     "execution_count": 12,
     "metadata": {},
     "output_type": "execute_result"
    }
   ],
   "source": [
    "df_station_hourly.head(5)"
   ]
  },
  {
   "cell_type": "markdown",
   "id": "67bdfb9d",
   "metadata": {},
   "source": [
    "### Drop all rows that has NaN value"
   ]
  },
  {
   "cell_type": "code",
   "execution_count": 13,
   "id": "e05b7b38",
   "metadata": {},
   "outputs": [],
   "source": [
    "df_station_hourly.dropna(subset=[\"PREV_ENTRIES\",\"PREV_EXITS\",\"HOURLY_ENTRIES\", \"HOURLY_EXITS\"], axis=0, inplace = True)"
   ]
  },
  {
   "cell_type": "code",
   "execution_count": 14,
   "id": "767ad66c",
   "metadata": {
    "scrolled": true
   },
   "outputs": [
    {
     "data": {
      "text/html": [
       "<div>\n",
       "<style scoped>\n",
       "    .dataframe tbody tr th:only-of-type {\n",
       "        vertical-align: middle;\n",
       "    }\n",
       "\n",
       "    .dataframe tbody tr th {\n",
       "        vertical-align: top;\n",
       "    }\n",
       "\n",
       "    .dataframe thead th {\n",
       "        text-align: right;\n",
       "    }\n",
       "</style>\n",
       "<table border=\"1\" class=\"dataframe\">\n",
       "  <thead>\n",
       "    <tr style=\"text-align: right;\">\n",
       "      <th></th>\n",
       "      <th>STATION</th>\n",
       "      <th>DATE_TIME</th>\n",
       "      <th>ENTRIES</th>\n",
       "      <th>EXITS</th>\n",
       "      <th>PREV_ENTRIES</th>\n",
       "      <th>PREV_EXITS</th>\n",
       "      <th>HOURLY_ENTRIES</th>\n",
       "      <th>HOURLY_EXITS</th>\n",
       "    </tr>\n",
       "  </thead>\n",
       "  <tbody>\n",
       "    <tr>\n",
       "      <th>1</th>\n",
       "      <td>1 AV</td>\n",
       "      <td>2021-06-05 04:00:00</td>\n",
       "      <td>459281262</td>\n",
       "      <td>448879330</td>\n",
       "      <td>463469358.0</td>\n",
       "      <td>467561277.0</td>\n",
       "      <td>4188096.0</td>\n",
       "      <td>0.0</td>\n",
       "    </tr>\n",
       "    <tr>\n",
       "      <th>2</th>\n",
       "      <td>1 AV</td>\n",
       "      <td>2021-06-05 08:00:00</td>\n",
       "      <td>463470068</td>\n",
       "      <td>467562591</td>\n",
       "      <td>459281262.0</td>\n",
       "      <td>448879330.0</td>\n",
       "      <td>4188806.0</td>\n",
       "      <td>0.0</td>\n",
       "    </tr>\n",
       "    <tr>\n",
       "      <th>3</th>\n",
       "      <td>1 AV</td>\n",
       "      <td>2021-06-05 12:00:00</td>\n",
       "      <td>463471095</td>\n",
       "      <td>467564448</td>\n",
       "      <td>463470068.0</td>\n",
       "      <td>467562591.0</td>\n",
       "      <td>1027.0</td>\n",
       "      <td>1857.0</td>\n",
       "    </tr>\n",
       "    <tr>\n",
       "      <th>4</th>\n",
       "      <td>1 AV</td>\n",
       "      <td>2021-06-05 16:00:00</td>\n",
       "      <td>463472982</td>\n",
       "      <td>467567736</td>\n",
       "      <td>463471095.0</td>\n",
       "      <td>467564448.0</td>\n",
       "      <td>1887.0</td>\n",
       "      <td>3288.0</td>\n",
       "    </tr>\n",
       "    <tr>\n",
       "      <th>5</th>\n",
       "      <td>1 AV</td>\n",
       "      <td>2021-06-05 20:00:00</td>\n",
       "      <td>463474970</td>\n",
       "      <td>467571266</td>\n",
       "      <td>463472982.0</td>\n",
       "      <td>467567736.0</td>\n",
       "      <td>1988.0</td>\n",
       "      <td>3530.0</td>\n",
       "    </tr>\n",
       "  </tbody>\n",
       "</table>\n",
       "</div>"
      ],
      "text/plain": [
       "  STATION           DATE_TIME    ENTRIES      EXITS  PREV_ENTRIES  \\\n",
       "1    1 AV 2021-06-05 04:00:00  459281262  448879330   463469358.0   \n",
       "2    1 AV 2021-06-05 08:00:00  463470068  467562591   459281262.0   \n",
       "3    1 AV 2021-06-05 12:00:00  463471095  467564448   463470068.0   \n",
       "4    1 AV 2021-06-05 16:00:00  463472982  467567736   463471095.0   \n",
       "5    1 AV 2021-06-05 20:00:00  463474970  467571266   463472982.0   \n",
       "\n",
       "    PREV_EXITS  HOURLY_ENTRIES  HOURLY_EXITS  \n",
       "1  467561277.0       4188096.0           0.0  \n",
       "2  448879330.0       4188806.0           0.0  \n",
       "3  467562591.0          1027.0        1857.0  \n",
       "4  467564448.0          1887.0        3288.0  \n",
       "5  467567736.0          1988.0        3530.0  "
      ]
     },
     "execution_count": 14,
     "metadata": {},
     "output_type": "execute_result"
    }
   ],
   "source": [
    "df_station_hourly.head()"
   ]
  },
  {
   "cell_type": "markdown",
   "id": "c4a7ab41",
   "metadata": {},
   "source": [
    "### FIND total trafic\n",
    "> TOTAL_TRAFIC = HOURLY_EXITS + HOURLY_ENTRIES"
   ]
  },
  {
   "cell_type": "code",
   "execution_count": 15,
   "id": "a6301081",
   "metadata": {},
   "outputs": [
    {
     "data": {
      "text/html": [
       "<div>\n",
       "<style scoped>\n",
       "    .dataframe tbody tr th:only-of-type {\n",
       "        vertical-align: middle;\n",
       "    }\n",
       "\n",
       "    .dataframe tbody tr th {\n",
       "        vertical-align: top;\n",
       "    }\n",
       "\n",
       "    .dataframe thead th {\n",
       "        text-align: right;\n",
       "    }\n",
       "</style>\n",
       "<table border=\"1\" class=\"dataframe\">\n",
       "  <thead>\n",
       "    <tr style=\"text-align: right;\">\n",
       "      <th></th>\n",
       "      <th>STATION</th>\n",
       "      <th>DATE_TIME</th>\n",
       "      <th>ENTRIES</th>\n",
       "      <th>EXITS</th>\n",
       "      <th>PREV_ENTRIES</th>\n",
       "      <th>PREV_EXITS</th>\n",
       "      <th>HOURLY_ENTRIES</th>\n",
       "      <th>HOURLY_EXITS</th>\n",
       "      <th>TOTAL_TRAFIC</th>\n",
       "    </tr>\n",
       "  </thead>\n",
       "  <tbody>\n",
       "    <tr>\n",
       "      <th>1</th>\n",
       "      <td>1 AV</td>\n",
       "      <td>2021-06-05 04:00:00</td>\n",
       "      <td>459281262</td>\n",
       "      <td>448879330</td>\n",
       "      <td>463469358.0</td>\n",
       "      <td>467561277.0</td>\n",
       "      <td>4188096.0</td>\n",
       "      <td>0.0</td>\n",
       "      <td>4188096.0</td>\n",
       "    </tr>\n",
       "    <tr>\n",
       "      <th>2</th>\n",
       "      <td>1 AV</td>\n",
       "      <td>2021-06-05 08:00:00</td>\n",
       "      <td>463470068</td>\n",
       "      <td>467562591</td>\n",
       "      <td>459281262.0</td>\n",
       "      <td>448879330.0</td>\n",
       "      <td>4188806.0</td>\n",
       "      <td>0.0</td>\n",
       "      <td>4188806.0</td>\n",
       "    </tr>\n",
       "    <tr>\n",
       "      <th>3</th>\n",
       "      <td>1 AV</td>\n",
       "      <td>2021-06-05 12:00:00</td>\n",
       "      <td>463471095</td>\n",
       "      <td>467564448</td>\n",
       "      <td>463470068.0</td>\n",
       "      <td>467562591.0</td>\n",
       "      <td>1027.0</td>\n",
       "      <td>1857.0</td>\n",
       "      <td>2884.0</td>\n",
       "    </tr>\n",
       "    <tr>\n",
       "      <th>4</th>\n",
       "      <td>1 AV</td>\n",
       "      <td>2021-06-05 16:00:00</td>\n",
       "      <td>463472982</td>\n",
       "      <td>467567736</td>\n",
       "      <td>463471095.0</td>\n",
       "      <td>467564448.0</td>\n",
       "      <td>1887.0</td>\n",
       "      <td>3288.0</td>\n",
       "      <td>5175.0</td>\n",
       "    </tr>\n",
       "    <tr>\n",
       "      <th>5</th>\n",
       "      <td>1 AV</td>\n",
       "      <td>2021-06-05 20:00:00</td>\n",
       "      <td>463474970</td>\n",
       "      <td>467571266</td>\n",
       "      <td>463472982.0</td>\n",
       "      <td>467567736.0</td>\n",
       "      <td>1988.0</td>\n",
       "      <td>3530.0</td>\n",
       "      <td>5518.0</td>\n",
       "    </tr>\n",
       "  </tbody>\n",
       "</table>\n",
       "</div>"
      ],
      "text/plain": [
       "  STATION           DATE_TIME    ENTRIES      EXITS  PREV_ENTRIES  \\\n",
       "1    1 AV 2021-06-05 04:00:00  459281262  448879330   463469358.0   \n",
       "2    1 AV 2021-06-05 08:00:00  463470068  467562591   459281262.0   \n",
       "3    1 AV 2021-06-05 12:00:00  463471095  467564448   463470068.0   \n",
       "4    1 AV 2021-06-05 16:00:00  463472982  467567736   463471095.0   \n",
       "5    1 AV 2021-06-05 20:00:00  463474970  467571266   463472982.0   \n",
       "\n",
       "    PREV_EXITS  HOURLY_ENTRIES  HOURLY_EXITS  TOTAL_TRAFIC  \n",
       "1  467561277.0       4188096.0           0.0     4188096.0  \n",
       "2  448879330.0       4188806.0           0.0     4188806.0  \n",
       "3  467562591.0          1027.0        1857.0        2884.0  \n",
       "4  467564448.0          1887.0        3288.0        5175.0  \n",
       "5  467567736.0          1988.0        3530.0        5518.0  "
      ]
     },
     "execution_count": 15,
     "metadata": {},
     "output_type": "execute_result"
    }
   ],
   "source": [
    "df_station_hourly[\"TOTAL_TRAFIC\"] = (df_station_hourly[\"HOURLY_EXITS\"] + df_station_hourly[\"HOURLY_ENTRIES\"])\n",
    "\n",
    "df_station_hourly.head()"
   ]
  },
  {
   "cell_type": "markdown",
   "id": "a22d1525",
   "metadata": {},
   "source": [
    "### Get top five stations"
   ]
  },
  {
   "cell_type": "code",
   "execution_count": 16,
   "id": "5d1a6494",
   "metadata": {},
   "outputs": [
    {
     "data": {
      "image/png": "[encoded data removed]",
      "text/plain": [
       "<Figure size 360x360 with 1 Axes>"
      ]
     },
     "metadata": {
      "needs_background": "light"
     },
     "output_type": "display_data"
    }
   ],
   "source": [
    "top_five = df_station_hourly.groupby('STATION')['TOTAL_TRAFIC'].sum().reset_index().sort_values(['TOTAL_TRAFIC'],ascending=False).head(5)\n",
    "\n",
    "plt.figure(figsize = [5,5]);\n",
    "axx = sns.barplot(data=top_five,x='TOTAL_TRAFIC',y='STATION', ci=None, color=\"#2e8b57\");\n",
    "plt.title('Top 5 crowded stations');\n",
    "plt.xticks(rotation = 0);"
   ]
  },
  {
   "cell_type": "markdown",
   "id": "92948e2a",
   "metadata": {},
   "source": [
    "### Get bottom five stations"
   ]
  },
  {
   "cell_type": "code",
   "execution_count": 17,
   "id": "3ae43467",
   "metadata": {},
   "outputs": [
    {
     "data": {
      "image/png": "[encoded data removed]",
      "text/plain": [
       "<Figure size 360x360 with 1 Axes>"
      ]
     },
     "metadata": {
      "needs_background": "light"
     },
     "output_type": "display_data"
    }
   ],
   "source": [
    "bottom_five = df_station_hourly.groupby('STATION')['TOTAL_TRAFIC'].sum().reset_index().sort_values(['TOTAL_TRAFIC'],ascending=True).head(5)\n",
    "\n",
    "plt.figure(figsize = [5,5]);\n",
    "axx = sns.barplot(data=bottom_five,x='TOTAL_TRAFIC',y='STATION', ci=None, color=\"#8b2e2e\");\n",
    "plt.title('Bottom 5 crowded stations');\n",
    "plt.xticks(rotation = 0);"
   ]
  },
  {
   "cell_type": "markdown",
   "id": "753b6465",
   "metadata": {},
   "source": [
    "Before we move on, We can see that the first two stations has 0 traffic which is wired! <br>\n",
    "In the next step we will exclude any row that has HOURLY_ENTRIES HOURLY_EXITS < 0"
   ]
  },
  {
   "cell_type": "code",
   "execution_count": 18,
   "id": "901eb556",
   "metadata": {},
   "outputs": [],
   "source": [
    "mask = ((df_station_hourly[\"TOTAL_TRAFIC\"] > 0))\n",
    "\n",
    "fixed_df = df_station_hourly[mask]"
   ]
  },
  {
   "cell_type": "code",
   "execution_count": 19,
   "id": "49f1ef9a",
   "metadata": {},
   "outputs": [
    {
     "data": {
      "image/png": "[encoded data removed]",
      "text/plain": [
       "<Figure size 360x360 with 1 Axes>"
      ]
     },
     "metadata": {
      "needs_background": "light"
     },
     "output_type": "display_data"
    }
   ],
   "source": [
    "bottom_five = fixed_df.groupby('STATION')['TOTAL_TRAFIC'].sum().reset_index().sort_values(['TOTAL_TRAFIC'],ascending=True).head(5)\n",
    "\n",
    "plt.figure(figsize = [5,5]);\n",
    "axx = sns.barplot(data=bottom_five,x='TOTAL_TRAFIC',y='STATION', ci=None, color=\"#8b2e2e\");\n",
    "plt.title('Bottom 5 crowded stations');\n",
    "plt.xticks(rotation = 0);"
   ]
  },
  {
   "cell_type": "markdown",
   "id": "13e3e96f",
   "metadata": {},
   "source": [
    "### To create box plot we need to take a subset of Top/Bottom five stations from the original dataframe<br>\n",
    "> 1- Create a TF column to mark top five stations with the value True <br> \n",
    "> 2- Create a BF column to mark bottom five stations with the value True"
   ]
  },
  {
   "cell_type": "code",
   "execution_count": 20,
   "id": "c6c06f77",
   "metadata": {},
   "outputs": [
    {
     "name": "stderr",
     "output_type": "stream",
     "text": [
      "<ipython-input-20-759388d0663d>:1: SettingWithCopyWarning: \n",
      "A value is trying to be set on a copy of a slice from a DataFrame.\n",
      "Try using .loc[row_indexer,col_indexer] = value instead\n",
      "\n",
      "See the caveats in the documentation: https://pandas.pydata.org/pandas-docs/stable/user_guide/indexing.html#returning-a-view-versus-a-copy\n",
      "  fixed_df[\"TF\"] = fixed_df.STATION.isin(top_five.STATION)\n"
     ]
    }
   ],
   "source": [
    "fixed_df[\"TF\"] = fixed_df.STATION.isin(top_five.STATION)"
   ]
  },
  {
   "cell_type": "code",
   "execution_count": 21,
   "id": "f715d592",
   "metadata": {},
   "outputs": [],
   "source": [
    "sns.set(rc={'figure.figsize':(10,10)})"
   ]
  },
  {
   "cell_type": "markdown",
   "id": "1d3c8add",
   "metadata": {},
   "source": [
    "## Box plot for Top five stations:"
   ]
  },
  {
   "cell_type": "code",
   "execution_count": 22,
   "id": "65d81634",
   "metadata": {},
   "outputs": [
    {
     "data": {
      "image/png": "[encoded data removed]",
      "text/plain": [
       "<Figure size 720x720 with 1 Axes>"
      ]
     },
     "metadata": {},
     "output_type": "display_data"
    }
   ],
   "source": [
    "ax = sns.boxplot(x=\"STATION\", y=\"TOTAL_TRAFIC\", data=fixed_df[fixed_df[\"TF\"] == True], color=\"seagreen\")"
   ]
  },
  {
   "cell_type": "code",
   "execution_count": 23,
   "id": "3e9469f2",
   "metadata": {},
   "outputs": [
    {
     "name": "stderr",
     "output_type": "stream",
     "text": [
      "<ipython-input-23-8c98bd2b3cac>:1: SettingWithCopyWarning: \n",
      "A value is trying to be set on a copy of a slice from a DataFrame.\n",
      "Try using .loc[row_indexer,col_indexer] = value instead\n",
      "\n",
      "See the caveats in the documentation: https://pandas.pydata.org/pandas-docs/stable/user_guide/indexing.html#returning-a-view-versus-a-copy\n",
      "  fixed_df[\"BF\"] = fixed_df.STATION.isin(bottom_five.STATION)\n"
     ]
    }
   ],
   "source": [
    "fixed_df[\"BF\"] = fixed_df.STATION.isin(bottom_five.STATION)"
   ]
  },
  {
   "cell_type": "markdown",
   "id": "9817cd98",
   "metadata": {},
   "source": [
    "## Box plot for Bottom five stations:"
   ]
  },
  {
   "cell_type": "code",
   "execution_count": 24,
   "id": "7c46099c",
   "metadata": {},
   "outputs": [
    {
     "data": {
      "image/png": "[encoded data removed]",
      "text/plain": [
       "<Figure size 720x720 with 1 Axes>"
      ]
     },
     "metadata": {},
     "output_type": "display_data"
    }
   ],
   "source": [
    "ax = sns.boxplot(x=\"STATION\", y=\"TOTAL_TRAFIC\", data=fixed_df[fixed_df[\"BF\"] == True], color=\"seagreen\")"
   ]
  },
  {
   "cell_type": "code",
   "execution_count": null,
   "id": "13e96bd8",
   "metadata": {},
   "outputs": [],
   "source": []
  }
 ],
 "metadata": {
  "kernelspec": {
   "display_name": "Python 3",
   "language": "python",
   "name": "python3"
  },
  "language_info": {
   "codemirror_mode": {
    "name": "ipython",
    "version": 3
   },
   "file_extension": ".py",
   "mimetype": "text/x-python",
   "name": "python",
   "nbconvert_exporter": "python",
   "pygments_lexer": "ipython3",
   "version": "3.8.8"
  }
 },
 "nbformat": 4,
 "nbformat_minor": 5
}
